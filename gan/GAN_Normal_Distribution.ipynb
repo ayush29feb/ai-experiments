{
  "nbformat": 4,
  "nbformat_minor": 0,
  "metadata": {
    "colab": {
      "name": "GAN Normal Distribution.ipynb",
      "version": "0.3.2",
      "provenance": [],
      "collapsed_sections": [],
      "include_colab_link": true
    },
    "kernelspec": {
      "name": "python3",
      "display_name": "Python 3"
    },
    "accelerator": "GPU"
  },
  "cells": [
    {
      "cell_type": "markdown",
      "metadata": {
        "id": "view-in-github",
        "colab_type": "text"
      },
      "source": [
        "<a href=\"https://colab.research.google.com/github/ayush29feb/nn-experiments/blob/master/gan/GAN_Normal_Distribution.ipynb\" target=\"_parent\"><img src=\"https://colab.research.google.com/assets/colab-badge.svg\" alt=\"Open In Colab\"/></a>"
      ]
    },
    {
      "metadata": {
        "id": "W8Zj93qurxkQ",
        "colab_type": "text"
      },
      "cell_type": "markdown",
      "source": [
        "# Generative Adversarial Networks\n",
        "\n",
        "The hello world implementation of a GAN on normal distribution."
      ]
    },
    {
      "metadata": {
        "id": "ySKfRT-QsYMR",
        "colab_type": "code",
        "colab": {
          "base_uri": "https://localhost:8080/",
          "height": 54
        },
        "outputId": "2400d9f2-a789-4873-d0fa-28cc0f20e55e"
      },
      "cell_type": "code",
      "source": [
        "# http://pytorch.org/\n",
        "from os.path import exists\n",
        "from wheel.pep425tags import get_abbr_impl, get_impl_ver, get_abi_tag\n",
        "platform = '{}{}-{}'.format(get_abbr_impl(), get_impl_ver(), get_abi_tag())\n",
        "cuda_output = !ldconfig -p|grep cudart.so|sed -e 's/.*\\.\\([0-9]*\\)\\.\\([0-9]*\\)$/cu\\1\\2/'\n",
        "accelerator = cuda_output[0] if exists('/dev/nvidia0') else 'cpu'\n",
        "\n",
        "!pip install -q http://download.pytorch.org/whl/{accelerator}/torch-0.4.1-{platform}-linux_x86_64.whl torchvision"
      ],
      "execution_count": 1,
      "outputs": [
        {
          "output_type": "stream",
          "text": [
            "tcmalloc: large alloc 1073750016 bytes == 0x57808000 @  0x7f102d4db2a4 0x594e17 0x626104 0x51190a 0x4f5277 0x510c78 0x5119bd 0x4f5277 0x4f3338 0x510fb0 0x5119bd 0x4f5277 0x4f3338 0x510fb0 0x5119bd 0x4f5277 0x4f3338 0x510fb0 0x5119bd 0x4f6070 0x510c78 0x5119bd 0x4f5277 0x4f3338 0x510fb0 0x5119bd 0x4f6070 0x4f3338 0x510fb0 0x5119bd 0x4f6070\n"
          ],
          "name": "stdout"
        }
      ]
    },
    {
      "metadata": {
        "id": "ELkWkUItruDt",
        "colab_type": "code",
        "colab": {}
      },
      "cell_type": "code",
      "source": [
        "import matplotlib.pyplot as plt\n",
        "import matplotlib.mlab as mlab\n",
        "\n",
        "import numpy as np\n",
        "import torch\n",
        "import torch.nn as nn\n",
        "import torch.nn.functional as F\n",
        "import torch.optim as optim\n",
        "\n",
        "from torch.autograd import Variable"
      ],
      "execution_count": 0,
      "outputs": []
    },
    {
      "metadata": {
        "id": "kHTb9knstA8Y",
        "colab_type": "text"
      },
      "cell_type": "markdown",
      "source": [
        "## The Distributation or Data"
      ]
    },
    {
      "metadata": {
        "id": "J0KWjc1rtAJN",
        "colab_type": "code",
        "colab": {}
      },
      "cell_type": "code",
      "source": [
        "# p_data\n",
        "def get_distribution_sampler(mu, sigma):\n",
        "  return lambda n: torch.Tensor(np.random.normal(mu, sigma, (1, n)))"
      ],
      "execution_count": 0,
      "outputs": []
    },
    {
      "metadata": {
        "id": "AEUXzK_CtfBd",
        "colab_type": "text"
      },
      "cell_type": "markdown",
      "source": [
        "## The Input Noise"
      ]
    },
    {
      "metadata": {
        "id": "1dLFh09ltqtH",
        "colab_type": "code",
        "colab": {}
      },
      "cell_type": "code",
      "source": [
        "# p_z\n",
        "def get_generator_input_sampler():\n",
        "  return lambda m, n: torch.rand(m, n)"
      ],
      "execution_count": 0,
      "outputs": []
    },
    {
      "metadata": {
        "id": "LKC8dEUbt7-W",
        "colab_type": "text"
      },
      "cell_type": "markdown",
      "source": [
        "## Generator Model"
      ]
    },
    {
      "metadata": {
        "id": "phBvq7NPt-dF",
        "colab_type": "code",
        "colab": {}
      },
      "cell_type": "code",
      "source": [
        "class Generator(nn.Module):\n",
        "  \n",
        "  def __init__(self, input_size, hidden_size, output_size):\n",
        "    super(Generator, self).__init__()\n",
        "    self.fc1 = nn.Linear(input_size, hidden_size)\n",
        "    self.fc2 = nn.Linear(hidden_size, hidden_size)\n",
        "    self.fc3 = nn.Linear(hidden_size, output_size)\n",
        "  \n",
        "  def forward(self, x):\n",
        "    x = F.elu(self.fc1(x))\n",
        "    x = F.sigmoid(self.fc2(x))\n",
        "    return self.fc3(x)"
      ],
      "execution_count": 0,
      "outputs": []
    },
    {
      "metadata": {
        "id": "7AlpGlWfvBPd",
        "colab_type": "text"
      },
      "cell_type": "markdown",
      "source": [
        "## Discriminator"
      ]
    },
    {
      "metadata": {
        "id": "6a_uStjHvGFf",
        "colab_type": "code",
        "colab": {}
      },
      "cell_type": "code",
      "source": [
        "class Discriminator(nn.Module):\n",
        "  \n",
        "  def __init__(self, input_size, hidden_size, output_size):\n",
        "    super(Discriminator, self).__init__()\n",
        "    self.fc1 = nn.Linear(input_size, hidden_size)\n",
        "    self.fc2 = nn.Linear(hidden_size, hidden_size)\n",
        "    self.fc3 = nn.Linear(hidden_size, output_size)\n",
        "  \n",
        "  def forward(self, x):\n",
        "    x = F.elu(self.fc1(x))\n",
        "    x = F.elu(self.fc2(x))\n",
        "    return F.sigmoid(self.fc3(x))"
      ],
      "execution_count": 0,
      "outputs": []
    },
    {
      "metadata": {
        "id": "Vr8DJuqkvcFI",
        "colab_type": "text"
      },
      "cell_type": "markdown",
      "source": [
        "## Training"
      ]
    },
    {
      "metadata": {
        "id": "VFxtotOPgkoE",
        "colab_type": "code",
        "colab": {}
      },
      "cell_type": "code",
      "source": [
        "# Data params\n",
        "data_mean = 4\n",
        "data_stddev = 1.25\n",
        "\n",
        "# Model params\n",
        "g_input_size = 1     # Random noise dimension coming into generator, per output vector\n",
        "g_hidden_size = 200   # Generator complexity\n",
        "g_output_size = 1    # size of generated output vector\n",
        "d_input_size = 100   # Minibatch size - cardinality of distributions\n",
        "d_hidden_size = 50   # Discriminator complexity\n",
        "d_output_size = 1    # Single dimension for 'real' vs. 'fake'\n",
        "minibatch_size = d_input_size\n",
        "\n",
        "d_learning_rate = 2e-4  # 2e-4\n",
        "g_learning_rate = 2e-4\n",
        "optim_betas = (0.9, 0.999)\n",
        "num_epochs = 100000\n",
        "print_interval = 1000\n",
        "d_steps = 2  # 'k' steps in the original GAN paper. Can put the discriminator on higher training freq than generator\n",
        "g_steps = 1"
      ],
      "execution_count": 0,
      "outputs": []
    },
    {
      "metadata": {
        "id": "zf7hHlsihzSb",
        "colab_type": "code",
        "colab": {
          "base_uri": "https://localhost:8080/",
          "height": 34
        },
        "outputId": "6d90c635-2645-4861-e886-bf56b997fce9"
      },
      "cell_type": "code",
      "source": [
        "def extract(v):\n",
        "    return v.data.storage().tolist()\n",
        "\n",
        "def stats(d):\n",
        "    return [np.mean(d), np.std(d)]\n",
        "\n",
        "def decorate_with_diffs(data, exponent):\n",
        "    mean = torch.mean(data.data, 1, keepdim=True)\n",
        "    mean_broadcast = torch.mul(torch.ones(data.size()), mean.tolist()[0][0])\n",
        "    diffs = torch.pow(data - Variable(mean_broadcast), exponent)\n",
        "    return torch.cat([data, diffs], 1)\n",
        "\n",
        "(name, preprocess, d_input_func) = (\"Data and variances\", \n",
        "                                    lambda data: decorate_with_diffs(data, 2.0), \n",
        "                                    lambda x: x * 2)\n",
        "print(\"Using data [%s]\" % (name))"
      ],
      "execution_count": 8,
      "outputs": [
        {
          "output_type": "stream",
          "text": [
            "Using data [Data and variances]\n"
          ],
          "name": "stdout"
        }
      ]
    },
    {
      "metadata": {
        "id": "4SJLcBeYgae8",
        "colab_type": "code",
        "colab": {}
      },
      "cell_type": "code",
      "source": [
        "d_sampler = get_distribution_sampler(data_mean, data_stddev)\n",
        "gi_sampler = get_generator_input_sampler()\n",
        "G = Generator(input_size=g_input_size, hidden_size=g_hidden_size, output_size=g_output_size)\n",
        "D = Discriminator(input_size=d_input_func(d_input_size), hidden_size=d_hidden_size, output_size=d_output_size)\n",
        "criterion = nn.BCELoss()\n",
        "d_optimizer = optim.Adam(D.parameters(), lr=d_learning_rate, betas=optim_betas)\n",
        "g_optimizer = optim.Adam(G.parameters(), lr=g_learning_rate, betas=optim_betas)"
      ],
      "execution_count": 0,
      "outputs": []
    },
    {
      "metadata": {
        "id": "GPkpinKgvgoA",
        "colab_type": "code",
        "colab": {
          "base_uri": "https://localhost:8080/",
          "height": 1800
        },
        "outputId": "b18b0968-6bcf-468e-9a01-a682e2aa4796"
      },
      "cell_type": "code",
      "source": [
        "for epoch in range(num_epochs):\n",
        "  for d_index in range(d_steps):\n",
        "      # 1. Train D on real+fake\n",
        "      D.zero_grad()\n",
        "\n",
        "      #  1A: Train D on real\n",
        "      d_real_data = Variable(d_sampler(d_input_size))\n",
        "      d_real_decision = D(preprocess(d_real_data))\n",
        "      d_real_error = criterion(d_real_decision, Variable(torch.ones(1)))  # ones = true\n",
        "      d_real_error.backward() # compute/store gradients, but don't change params\n",
        "\n",
        "      #  1B: Train D on fake\n",
        "      d_gen_input = Variable(gi_sampler(minibatch_size, g_input_size))\n",
        "      d_fake_data = G(d_gen_input).detach()  # detach to avoid training G on these labels\n",
        "      d_fake_decision = D(preprocess(d_fake_data.t()))\n",
        "      d_fake_error = criterion(d_fake_decision, Variable(torch.zeros(1)))  # zeros = fake\n",
        "      d_fake_error.backward()\n",
        "      d_optimizer.step()     # Only optimizes D's parameters; changes based on stored gradients from backward()\n",
        "\n",
        "  for g_index in range(g_steps):\n",
        "      # 2. Train G on D's response (but DO NOT train D on these labels)\n",
        "      G.zero_grad()\n",
        "\n",
        "      gen_input = Variable(gi_sampler(minibatch_size, g_input_size))\n",
        "      g_fake_data = G(gen_input)\n",
        "      dg_fake_decision = D(preprocess(g_fake_data.t()))\n",
        "      g_error = criterion(dg_fake_decision, Variable(torch.ones(1)))  # we want to fool, so pretend it's all genuine\n",
        "\n",
        "      g_error.backward()\n",
        "      g_optimizer.step()  # Only optimizes G's parameters\n",
        "\n",
        "  if epoch % print_interval == 0:\n",
        "      print(\"%s: D: %s/%s G: %s (Real: %s, Fake: %s) \" % (epoch,\n",
        "                                                          extract(d_real_error)[0],\n",
        "                                                          extract(d_fake_error)[0],\n",
        "                                                          extract(g_error)[0],\n",
        "                                                          stats(extract(d_real_data)),\n",
        "                                                          stats(extract(d_fake_data))))"
      ],
      "execution_count": 33,
      "outputs": [
        {
          "output_type": "stream",
          "text": [
            "/usr/local/lib/python3.6/dist-packages/torch/nn/functional.py:1006: UserWarning: nn.functional.sigmoid is deprecated. Use torch.sigmoid instead.\n",
            "  warnings.warn(\"nn.functional.sigmoid is deprecated. Use torch.sigmoid instead.\")\n",
            "/usr/local/lib/python3.6/dist-packages/torch/nn/functional.py:1594: UserWarning: Using a target size (torch.Size([1])) that is different to the input size (torch.Size([1, 1])) is deprecated. Please ensure they have the same size.\n",
            "  \"Please ensure they have the same size.\".format(target.size(), input.size()))\n"
          ],
          "name": "stderr"
        },
        {
          "output_type": "stream",
          "text": [
            "0: D: 0.5446030497550964/0.6588071584701538 G: 0.7254208922386169 (Real: [4.134171104431152, 1.25382824308548], Fake: [0.2031211343407631, 0.008612423031194668]) \n",
            "1000: D: 0.9001461863517761/0.6355764865875244 G: 0.7067381739616394 (Real: [4.095482776165008, 1.0724833863207737], Fake: [4.213295823335647, 1.41217722384139]) \n",
            "2000: D: 0.40529218316078186/0.7221962809562683 G: 0.7925741076469421 (Real: [3.8889312171936035, 1.3911485790298999], Fake: [4.067434405088425, 1.423882481481717]) \n",
            "3000: D: 0.4498905539512634/1.3052579164505005 G: 1.2587599754333496 (Real: [3.9061478322744367, 1.2866357012644554], Fake: [4.5232876944541935, 1.18820025648093]) \n",
            "4000: D: 0.3557259142398834/0.3032849431037903 G: 0.9478645920753479 (Real: [4.026519832015038, 1.2784669763517256], Fake: [3.7200016283988955, 1.2984260717499654]) \n",
            "5000: D: 0.6917238831520081/0.2571312189102173 G: 0.8296079039573669 (Real: [4.204291694164276, 1.2524679206200786], Fake: [3.5022759845852853, 1.3226325442801923]) \n",
            "6000: D: 0.6631027460098267/0.7287466526031494 G: 0.7508767247200012 (Real: [3.9819545286893843, 1.1375404784639933], Fake: [4.630247277021408, 1.27554348881817]) \n",
            "7000: D: 0.6783661842346191/1.04827082157135 G: 0.5892117619514465 (Real: [4.052831127941609, 1.3330336719565956], Fake: [4.12446444451809, 1.1738687514296824]) \n",
            "8000: D: 0.5658300518989563/0.6667273640632629 G: 1.3159083127975464 (Real: [4.077740231752395, 1.1715321069105729], Fake: [3.722816767692566, 1.2145712510041136]) \n",
            "9000: D: 0.8402755856513977/0.894191324710846 G: 1.2501471042633057 (Real: [4.265537936985493, 1.3006842174199387], Fake: [4.403501710295677, 1.2898009502778096]) \n",
            "10000: D: 0.6318154335021973/1.2013612985610962 G: 0.7950688004493713 (Real: [4.33843333363533, 1.3485792507951975], Fake: [4.085961797237396, 1.127530218082033]) \n",
            "11000: D: 0.636141300201416/0.643125057220459 G: 0.7545127272605896 (Real: [4.509570090770722, 1.324678370794671], Fake: [3.892040645778179, 1.193253960240264]) \n",
            "12000: D: 0.08354435116052628/0.9982225298881531 G: 0.3080340623855591 (Real: [3.8698495935089885, 1.2705182973059117], Fake: [4.594164286851883, 1.3629834634033609]) \n",
            "13000: D: 0.710263192653656/0.41827628016471863 G: 1.6541892290115356 (Real: [3.6723314332962036, 1.0862136766843238], Fake: [4.175199909210205, 1.497335798482437]) \n",
            "14000: D: 0.6250007152557373/0.7471078634262085 G: 0.7692105770111084 (Real: [4.1823805141448975, 1.3524759386362886], Fake: [3.9496386671066284, 1.1304909820813893]) \n",
            "15000: D: 0.6618909239768982/0.8141843676567078 G: 0.8935984969139099 (Real: [4.0017981791496275, 1.208878744871496], Fake: [4.188963010311126, 1.4029622080565405]) \n",
            "16000: D: 0.9643351435661316/0.44061195850372314 G: 0.9115414023399353 (Real: [4.120848416686058, 1.341414835622004], Fake: [4.557735979557037, 1.1842950085854786]) \n",
            "17000: D: 0.8361783027648926/0.22053788602352142 G: 0.5886943936347961 (Real: [4.335189712047577, 1.2280611320771713], Fake: [4.70127151966095, 1.4337107189826637]) \n",
            "18000: D: 1.2336286306381226/0.7764267325401306 G: 0.6668887734413147 (Real: [4.137505759000778, 1.1265723571262922], Fake: [4.377807583808899, 1.3563394932613408]) \n",
            "19000: D: 0.5987107157707214/0.4634822607040405 G: 0.5365786552429199 (Real: [4.066640779450536, 1.2186313268376303], Fake: [4.1052484440803525, 1.0108946101360488]) \n",
            "20000: D: 0.8971613049507141/0.8331525921821594 G: 0.6750670075416565 (Real: [3.842324442863464, 1.2073014022464597], Fake: [3.4164547991752623, 1.0432400981589953]) \n",
            "21000: D: 1.0102180242538452/0.4055912494659424 G: 0.6272494196891785 (Real: [3.990166597366333, 1.2115202993810392], Fake: [4.266043241024017, 1.3702907680707046]) \n",
            "22000: D: 0.5206758379936218/0.8370786309242249 G: 1.094063401222229 (Real: [3.953178346157074, 1.2442415100959532], Fake: [3.6290637654066087, 1.1579107198416114]) \n",
            "23000: D: 0.6316819787025452/0.8832632303237915 G: 0.8951394557952881 (Real: [4.0535111033916476, 1.195698208530897], Fake: [3.881811059117317, 1.1356708155743838]) \n",
            "24000: D: 0.57823246717453/0.7064386010169983 G: 1.0043143033981323 (Real: [3.7944237595796584, 1.3747154012498202], Fake: [4.624760659933091, 1.283287321888752]) \n",
            "25000: D: 0.6250779032707214/0.573405921459198 G: 0.8049997687339783 (Real: [3.8083214211463927, 1.1744536330615134], Fake: [4.402936630249023, 1.1739248235034436]) \n",
            "26000: D: 0.5925605297088623/0.6001024842262268 G: 0.9548790454864502 (Real: [3.967115794420242, 1.3702533371631729], Fake: [3.538209774196148, 1.1843517352641775]) \n",
            "27000: D: 0.5893323421478271/1.0407696962356567 G: 0.5793728232383728 (Real: [4.082996631264686, 1.2343414298775868], Fake: [4.48002245426178, 1.2754393100489558]) \n",
            "28000: D: 0.791076123714447/0.6852244138717651 G: 0.9315937161445618 (Real: [3.7004597198963167, 1.2685410789253484], Fake: [4.7124233877658845, 1.3450667543636659]) \n",
            "29000: D: 0.42271459102630615/0.7607952952384949 G: 0.5710244178771973 (Real: [4.065364537239074, 1.3344940087428991], Fake: [3.6570884573459623, 1.125163873648854]) \n",
            "30000: D: 0.8100551962852478/0.5511955618858337 G: 0.8782519102096558 (Real: [3.803139330074191, 1.3978921873132526], Fake: [3.7527898555994033, 1.247064510017242]) \n",
            "31000: D: 0.6378815174102783/0.545184314250946 G: 0.6854021549224854 (Real: [3.8996072256565095, 1.1439052883037135], Fake: [3.953786270618439, 1.1348005488875466]) \n",
            "32000: D: 0.6159130334854126/0.5079571604728699 G: 0.9505601525306702 (Real: [4.088824647665024, 1.2359922773441288], Fake: [4.129657032489777, 1.129576523674624]) \n",
            "33000: D: 0.5572404265403748/0.5954101085662842 G: 0.6080695986747742 (Real: [3.8061951065063475, 1.3443662006657442], Fake: [4.411601341366768, 1.4014724703539663]) \n",
            "34000: D: 0.4399121105670929/0.6110981106758118 G: 0.9648663401603699 (Real: [4.008076566159725, 1.3274726014790625], Fake: [3.4292483165860177, 1.099486557811291]) \n",
            "35000: D: 0.9408233165740967/0.8441745042800903 G: 0.682366132736206 (Real: [4.020709944367408, 1.34538685098066], Fake: [4.262015750408173, 1.2160753574588914]) \n",
            "36000: D: 0.5525178909301758/0.7633183002471924 G: 0.4749274253845215 (Real: [4.029136291146278, 1.3722262440941981], Fake: [3.693935739994049, 1.2608455621877892]) \n",
            "37000: D: 0.6442852020263672/0.698979914188385 G: 0.4411805272102356 (Real: [4.015295930951834, 1.2568598227564716], Fake: [3.2908412650227548, 1.0629172651806682]) \n",
            "38000: D: 0.931239664554596/0.6051542162895203 G: 0.5427682399749756 (Real: [4.097582939863205, 1.3072247106710133], Fake: [4.353617608547211, 1.4089953218560893]) \n",
            "39000: D: 0.5346031785011292/0.7511342167854309 G: 0.828708291053772 (Real: [4.099512660503388, 1.2233825103784084], Fake: [3.7476516649127007, 1.2602131405739938]) \n",
            "40000: D: 0.7640738487243652/0.6839024424552917 G: 0.44541922211647034 (Real: [3.9706696271896362, 1.1793592823931482], Fake: [3.868095725774765, 1.3944264128716906]) \n",
            "41000: D: 0.5480741262435913/0.604560911655426 G: 0.6775308847427368 (Real: [4.044289751052856, 1.2347443636017008], Fake: [4.473800369501114, 1.4805389209852553]) \n",
            "42000: D: 0.6809467077255249/0.594778299331665 G: 0.8578476905822754 (Real: [4.011223341822625, 1.296655434268847], Fake: [3.635066599994898, 1.1443009727859907]) \n",
            "43000: D: 0.7574028968811035/0.7244243025779724 G: 0.6876546740531921 (Real: [4.021635539531708, 1.368709236980437], Fake: [4.490009726285934, 1.3268435610649927]) \n",
            "44000: D: 0.519463837146759/0.9349157214164734 G: 0.7487148642539978 (Real: [4.059225744009018, 1.242227415330713], Fake: [3.851445730924606, 1.2163510282491834]) \n",
            "45000: D: 0.7438058853149414/0.8853133916854858 G: 0.6362645626068115 (Real: [3.7924685716629027, 1.256967324020234], Fake: [3.5154349519312382, 1.2096278284501631]) \n",
            "46000: D: 0.5667849183082581/0.8563992977142334 G: 0.40316060185432434 (Real: [4.066456855535507, 1.0690585905049408], Fake: [4.115833694934845, 1.3044393463422757]) \n",
            "47000: D: 0.6218917369842529/0.39175665378570557 G: 0.6063451766967773 (Real: [4.024668434858322, 1.2234760455513463], Fake: [3.9714209973812102, 1.5089011537834744]) \n",
            "48000: D: 0.7729120254516602/0.6399094462394714 G: 0.6944747567176819 (Real: [4.032574971914292, 1.0886848574708405], Fake: [4.4434485232830045, 1.3977715571908964]) \n",
            "49000: D: 0.820253312587738/0.6550695300102234 G: 0.5625113248825073 (Real: [4.304189159870147, 1.1703752370464557], Fake: [3.610329327583313, 1.3128257214263637]) \n",
            "50000: D: 0.5205539464950562/0.8098630309104919 G: 1.0927914381027222 (Real: [3.979005092084408, 1.2679844676066374], Fake: [4.088707764148712, 1.2035158820962524]) \n",
            "51000: D: 0.8585947751998901/0.5661142468452454 G: 0.6578593254089355 (Real: [4.104566561952233, 1.2929896428799668], Fake: [3.9604725039005277, 1.2093085389863576]) \n",
            "52000: D: 0.7575726509094238/0.4572334289550781 G: 0.7047423720359802 (Real: [4.2032338082790375, 1.2528234854733729], Fake: [4.039878922700882, 1.0152019820235885]) \n",
            "53000: D: 0.6683201789855957/0.5939190983772278 G: 0.6577918529510498 (Real: [4.193246701955795, 1.421811169865346], Fake: [3.7853978019952774, 1.2412090575286858]) \n",
            "54000: D: 0.7523998022079468/0.6079455018043518 G: 0.777895987033844 (Real: [4.056733472943306, 1.2926394037147404], Fake: [4.288235596418381, 1.2228371880346258]) \n",
            "55000: D: 0.5227743983268738/0.6212010383605957 G: 1.2314786911010742 (Real: [4.054379036482423, 1.3394644368428452], Fake: [3.8636050283908845, 1.2978104739984155]) \n",
            "56000: D: 0.7207979559898376/0.6886352896690369 G: 0.6859421730041504 (Real: [4.045389073491097, 1.330810139332203], Fake: [4.223177711963654, 1.2228507656783272]) \n",
            "57000: D: 0.6441202759742737/0.5275138020515442 G: 0.903748631477356 (Real: [3.7866569930315017, 1.252952224299056], Fake: [4.203555475473404, 1.119184036867384]) \n",
            "58000: D: 0.8038498163223267/0.8756502270698547 G: 0.5335299968719482 (Real: [4.0647680377960205, 1.1885514476919938], Fake: [3.5711436557769773, 1.1336513982345124]) \n",
            "59000: D: 0.4886455535888672/0.903260350227356 G: 0.5237585306167603 (Real: [4.017682760953903, 1.4725306324953877], Fake: [3.7327354025840758, 1.2267181460100236]) \n",
            "60000: D: 0.6119534373283386/0.845872163772583 G: 0.5875211358070374 (Real: [3.9270570182800295, 1.0164610743788687], Fake: [4.258200814723969, 1.3334286190709619]) \n",
            "61000: D: 0.6209486722946167/0.7546024918556213 G: 0.6427690982818604 (Real: [3.9807658207416536, 1.1818402830764771], Fake: [4.1267765164375305, 1.248823349135884]) \n",
            "62000: D: 0.701862633228302/0.8347548246383667 G: 0.5557457208633423 (Real: [4.068276664912701, 1.2062352116316148], Fake: [3.8703249537944795, 1.2964228140602931]) \n",
            "63000: D: 0.5809453129768372/0.5261644721031189 G: 0.7182631492614746 (Real: [4.150157829523087, 1.2124231073641571], Fake: [3.8839607036113737, 1.2983951999772905]) \n",
            "64000: D: 0.7253804206848145/0.6751583218574524 G: 0.7124401926994324 (Real: [4.230901663303375, 1.1487320617196846], Fake: [3.9629261231422426, 1.2235538685399303]) \n",
            "65000: D: 0.6836614012718201/0.6671621799468994 G: 0.875222384929657 (Real: [3.874317325949669, 1.2128475948727413], Fake: [3.657510107755661, 1.1198218187530868]) \n",
            "66000: D: 0.6620473861694336/0.6074218153953552 G: 0.5977095365524292 (Real: [4.077054721862078, 1.3752519619805768], Fake: [3.9157830476760864, 1.2404369340644708]) \n",
            "67000: D: 0.6646116971969604/0.6487799286842346 G: 0.5990334749221802 (Real: [3.9276023799180986, 1.345193201319147], Fake: [4.083848041296005, 1.361569404935338]) \n",
            "68000: D: 0.5947577953338623/0.6818102598190308 G: 0.7955389618873596 (Real: [3.9652895081043242, 1.228223156128803], Fake: [3.7767261803150176, 1.124766797413233]) \n",
            "69000: D: 0.7270130515098572/0.6783268451690674 G: 0.5626730918884277 (Real: [4.026325881481171, 1.3738085115381375], Fake: [3.9798316502571107, 1.1797901674760134]) \n",
            "70000: D: 0.7227122187614441/0.7153704166412354 G: 0.7205371260643005 (Real: [3.994951466321945, 1.1715417722447352], Fake: [3.986005176305771, 1.1399905468410751]) \n",
            "71000: D: 0.6173115968704224/0.789398193359375 G: 0.7197734117507935 (Real: [4.008409740924836, 1.2282789321677259], Fake: [4.38283348441124, 1.1962085138657597]) \n",
            "72000: D: 0.629642128944397/0.8149281740188599 G: 0.6210589408874512 (Real: [3.8686610114574433, 1.2960737991093167], Fake: [3.69780051112175, 1.2375072710871613]) \n",
            "73000: D: 0.6785076260566711/0.6458163261413574 G: 0.8035658001899719 (Real: [3.9343483763933182, 1.1521951555181225], Fake: [4.302170729637146, 1.2593387087710526]) \n",
            "74000: D: 0.7459668517112732/0.669872522354126 G: 0.757706880569458 (Real: [3.9395564261078833, 1.3894937072080478], Fake: [4.019008303880692, 1.1835777481644203]) \n",
            "75000: D: 0.7263487577438354/0.6883543133735657 G: 0.7403991222381592 (Real: [3.9663228058815, 1.0477539592617373], Fake: [4.153165699243545, 1.270903837517219]) \n",
            "76000: D: 0.598299503326416/0.5009269118309021 G: 0.5575237274169922 (Real: [3.889043514430523, 1.228294339911421], Fake: [3.6607119369506838, 1.3344393147636588]) \n",
            "77000: D: 0.6678452491760254/0.7351727485656738 G: 0.767404317855835 (Real: [4.001877728700638, 1.2496828866996674], Fake: [3.9163747596740723, 1.1787511678944973]) \n",
            "78000: D: 0.665447473526001/0.6485217213630676 G: 0.7719548940658569 (Real: [3.8405239254236223, 1.2269764669048082], Fake: [3.814953085184097, 1.1646623168239787]) \n",
            "79000: D: 0.6705855131149292/0.5902822613716125 G: 0.7797541618347168 (Real: [4.078480831384659, 1.2830699244459631], Fake: [3.580817232131958, 1.135416540314619]) \n",
            "80000: D: 0.6437039971351624/0.7032757997512817 G: 0.8117530941963196 (Real: [3.9157629263401033, 1.169870708815707], Fake: [4.109033138751983, 1.2129994128843213]) \n",
            "81000: D: 0.7944540977478027/0.7805041670799255 G: 0.6781497001647949 (Real: [3.9403125429153443, 1.2400085097716549], Fake: [3.9220849752426146, 1.1488253384873426]) \n",
            "82000: D: 0.6409567594528198/0.7086495161056519 G: 0.8090178966522217 (Real: [3.973109309077263, 1.23605513593625], Fake: [3.8949544942378997, 1.2234734834044523]) \n",
            "83000: D: 0.5863354206085205/0.5530359745025635 G: 0.9716477394104004 (Real: [4.106577495336532, 1.2925623549479985], Fake: [3.7578892040252687, 1.1289984212829776]) \n",
            "84000: D: 0.708783745765686/0.7171921133995056 G: 0.7074019312858582 (Real: [4.119062640666962, 1.2151259759703743], Fake: [3.8226569533348083, 1.129778124051175]) \n",
            "85000: D: 0.6929395198822021/0.7337420582771301 G: 0.6296142935752869 (Real: [4.0061279019713405, 1.210753168080349], Fake: [4.094046678543091, 1.2489261048851488]) \n",
            "86000: D: 0.7092429995536804/0.7455090880393982 G: 0.9776489734649658 (Real: [4.163430639505386, 1.3941437822792384], Fake: [3.8609543466567993, 1.1768691603909478]) \n",
            "87000: D: 0.7072965502738953/0.7258379459381104 G: 0.6171340346336365 (Real: [3.858000462055206, 1.283644009353103], Fake: [3.607601661682129, 1.1043696538234975]) \n",
            "88000: D: 0.7575922012329102/0.7238993644714355 G: 0.6340353488922119 (Real: [4.074693450927734, 1.2096433372382924], Fake: [3.901954734325409, 1.1212296698331408]) \n",
            "89000: D: 0.6676186323165894/0.5484174489974976 G: 0.645283579826355 (Real: [3.9923447881639005, 1.2285872446751376], Fake: [3.860989009141922, 1.290410962238252]) \n",
            "90000: D: 0.5625326037406921/0.5690436959266663 G: 0.54948490858078 (Real: [4.266131294965744, 1.2773584602434531], Fake: [3.8400092875957488, 1.3495536721488601]) \n",
            "91000: D: 0.6773968935012817/0.7358376383781433 G: 0.6346989870071411 (Real: [3.924854029417038, 1.197124059788266], Fake: [3.7499157965183256, 1.343532412675692]) \n",
            "92000: D: 0.6912587881088257/0.6049823760986328 G: 0.9388982057571411 (Real: [3.921354194879532, 1.1434217265992785], Fake: [4.209581726789475, 1.2493513602595465]) \n",
            "93000: D: 0.6311501860618591/0.7491705417633057 G: 0.8982452750205994 (Real: [4.139817786216736, 1.1206339715678102], Fake: [3.9709729623794554, 1.1409401946340763]) \n",
            "94000: D: 0.7471373677253723/0.5121299028396606 G: 0.8723176717758179 (Real: [4.176918836832047, 1.120637657060923], Fake: [4.388781965970993, 1.387149523510442]) \n",
            "95000: D: 0.7104732394218445/0.704526424407959 G: 0.7323662638664246 (Real: [4.164883264303207, 1.3325510578191984], Fake: [3.856807825565338, 1.3361333379727536]) \n",
            "96000: D: 0.6092732548713684/0.6512426137924194 G: 0.7220435738563538 (Real: [3.7777560502290726, 1.3493472272963816], Fake: [4.025294576883316, 1.3334637317585973]) \n",
            "97000: D: 0.6934285163879395/0.7623189687728882 G: 0.6558895111083984 (Real: [4.086266409754753, 1.2221250750681336], Fake: [3.7272393643856048, 1.072260291438796]) \n",
            "98000: D: 0.7062636017799377/0.696078896522522 G: 0.6439560055732727 (Real: [4.029863178730011, 1.29324499405454], Fake: [4.066497585773468, 1.3527851086859595]) \n",
            "99000: D: 0.7618618607521057/0.4779127538204193 G: 1.1122623682022095 (Real: [3.9935405069589613, 1.2811632622558986], Fake: [4.06066862821579, 1.1459376879023744]) \n"
          ],
          "name": "stdout"
        }
      ]
    },
    {
      "metadata": {
        "id": "XlMn0aFm34u_",
        "colab_type": "code",
        "colab": {
          "base_uri": "https://localhost:8080/",
          "height": 399
        },
        "outputId": "3dd2d30e-9eb2-4754-da0d-10cdd0c5f8bf"
      },
      "cell_type": "code",
      "source": [
        "# Lets plot the outputs and see if the distribution learned by the generator is\n",
        "# actually the normal distribution we were trying to learn?\n",
        "z = Variable(gi_sampler(1000, g_input_size))\n",
        "x = G(z)\n",
        "\n",
        "samples = x.detach().numpy()\n",
        "plt.hist(samples, bins=100)\n",
        "x = np.linspace(data_mean - 3*data_stddev, data_mean + 3*data_stddev, 100)\n",
        "plt.plot(x,1000 * mlab.normpdf(x, data_mean, data_stddev))"
      ],
      "execution_count": 48,
      "outputs": [
        {
          "output_type": "stream",
          "text": [
            "/usr/local/lib/python3.6/dist-packages/torch/nn/functional.py:1006: UserWarning: nn.functional.sigmoid is deprecated. Use torch.sigmoid instead.\n",
            "  warnings.warn(\"nn.functional.sigmoid is deprecated. Use torch.sigmoid instead.\")\n"
          ],
          "name": "stderr"
        },
        {
          "output_type": "execute_result",
          "data": {
            "text/plain": [
              "[<matplotlib.lines.Line2D at 0x7ffa785b0e10>]"
            ]
          },
          "metadata": {
            "tags": []
          },
          "execution_count": 48
        },
        {
          "output_type": "display_data",
          "data": {
            "image/png": "[encoded data removed]",
            "text/plain": [
              "<matplotlib.figure.Figure at 0x7ffa7822c828>"
            ]
          },
          "metadata": {
            "tags": []
          }
        }
      ]
    }
  ]
}