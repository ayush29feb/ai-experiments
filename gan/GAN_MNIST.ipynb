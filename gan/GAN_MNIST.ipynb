{
  "nbformat": 4,
  "nbformat_minor": 0,
  "metadata": {
    "colab": {
      "name": "GAN MNIST.ipynb",
      "version": "0.3.2",
      "provenance": [],
      "collapsed_sections": [],
      "include_colab_link": true
    },
    "kernelspec": {
      "name": "python3",
      "display_name": "Python 3"
    },
    "accelerator": "GPU"
  },
  "cells": [
    {
      "cell_type": "markdown",
      "metadata": {
        "id": "view-in-github",
        "colab_type": "text"
      },
      "source": [
        "<a href=\"https://colab.research.google.com/github/ayush29feb/nn-experiments/blob/master/gan/GAN_MNIST.ipynb\" target=\"_parent\"><img src=\"https://colab.research.google.com/assets/colab-badge.svg\" alt=\"Open In Colab\"/></a>"
      ]
    },
    {
      "metadata": {
        "id": "jnC_3AJQMkII",
        "colab_type": "text"
      },
      "cell_type": "markdown",
      "source": [
        "# Generative Adversarial Networks: MNIST\n",
        "\n",
        "A simple GAN for generating handwritten digits drawings similar to MNIST Dataset"
      ]
    },
    {
      "metadata": {
        "id": "g0JtIWeRH3hz",
        "colab_type": "code",
        "colab": {}
      },
      "cell_type": "code",
      "source": [
        "# http://pytorch.org/\n",
        "from os.path import exists\n",
        "from wheel.pep425tags import get_abbr_impl, get_impl_ver, get_abi_tag\n",
        "platform = '{}{}-{}'.format(get_abbr_impl(), get_impl_ver(), get_abi_tag())\n",
        "cuda_output = !ldconfig -p|grep cudart.so|sed -e 's/.*\\.\\([0-9]*\\)\\.\\([0-9]*\\)$/cu\\1\\2/'\n",
        "accelerator = cuda_output[0] if exists('/dev/nvidia0') else 'cpu'\n",
        "\n",
        "!pip install -q http://download.pytorch.org/whl/{accelerator}/torch-0.4.1-{platform}-linux_x86_64.whl torchvision"
      ],
      "execution_count": 0,
      "outputs": []
    },
    {
      "metadata": {
        "id": "7SqXbsEFLnUW",
        "colab_type": "code",
        "colab": {
          "base_uri": "https://localhost:8080/",
          "height": 34
        },
        "outputId": "2dc47e35-d828-461d-ed21-eb0e484a9827"
      },
      "cell_type": "code",
      "source": [
        "import matplotlib.pyplot as plt\n",
        "import matplotlib.mlab as mlab\n",
        "\n",
        "import numpy as np\n",
        "import torch\n",
        "import torch.nn as nn\n",
        "import torch.nn.functional as F\n",
        "import torch.optim as optim\n",
        "import torchvision.datasets as datasets\n",
        "import torchvision.transforms as transforms\n",
        "\n",
        "from torch.autograd import Variable\n",
        "\n",
        "use_cuda = torch.cuda.is_available()\n",
        "if use_cuda:\n",
        "  print('Using GPU: %s'% torch.cuda.get_device_name(0))"
      ],
      "execution_count": 2,
      "outputs": [
        {
          "output_type": "stream",
          "text": [
            "Using GPU: Tesla K80\n"
          ],
          "name": "stdout"
        }
      ]
    },
    {
      "metadata": {
        "id": "ynaf-cO9QbPm",
        "colab_type": "text"
      },
      "cell_type": "markdown",
      "source": [
        "# Parameters"
      ]
    },
    {
      "metadata": {
        "id": "jI84xZSyQerT",
        "colab_type": "code",
        "colab": {}
      },
      "cell_type": "code",
      "source": [
        "batch_size=10\n",
        "img_dim=784\n",
        "\n",
        "d_lr=0.0002\n",
        "g_lr=0.0002\n",
        "num_epochs=100\n",
        "dropout_rate=0.3\n",
        "\n",
        "z_dim=100\n",
        "g_steps=1\n",
        "d_steps=1"
      ],
      "execution_count": 0,
      "outputs": []
    },
    {
      "metadata": {
        "id": "miSOIGVVMiAo",
        "colab_type": "text"
      },
      "cell_type": "markdown",
      "source": [
        "## Load The MNIST Dataset"
      ]
    },
    {
      "metadata": {
        "id": "zKxQFF0-MgPl",
        "colab_type": "code",
        "colab": {}
      },
      "cell_type": "code",
      "source": [
        "# !mkdir /content/data\n",
        "data_root='/content/data'\n",
        "data_transforms = transforms.Compose([transforms.ToTensor(),\n",
        "                                      transforms.Lambda(lambda x: (x-0.5)/0.5)])\n",
        "\n",
        "train_set = datasets.MNIST(root=data_root, train=True, \n",
        "                           transform=data_transforms, download=True)\n",
        "\n",
        "train_loader = torch.utils.data.DataLoader(dataset=train_set,\n",
        "                                           batch_size=batch_size,\n",
        "                                           shuffle=True)"
      ],
      "execution_count": 0,
      "outputs": []
    },
    {
      "metadata": {
        "id": "FBj7BioXWD0x",
        "colab_type": "text"
      },
      "cell_type": "markdown",
      "source": [
        "## Generator"
      ]
    },
    {
      "metadata": {
        "id": "kdj0TcC4WMzn",
        "colab_type": "code",
        "colab": {}
      },
      "cell_type": "code",
      "source": [
        "class Generator(nn.Module):\n",
        "  \n",
        "    def __init__(self):\n",
        "        super(Generator, self).__init__()\n",
        "        self.fc1 = nn.Linear(z_dim, 256)\n",
        "        self.fc2 = nn.Linear(256, 512)\n",
        "        self.fc3 = nn.Linear(512, 1024)\n",
        "        self.fc4 = nn.Linear(1024, img_dim)\n",
        "        self.tanh = nn.Tanh()\n",
        "\n",
        "    def forward(self, x):\n",
        "        x = x.view(x.size(0), -1)\n",
        "        x = F.relu(self.fc1(x))\n",
        "        x = F.relu(self.fc2(x))\n",
        "        x = F.relu(self.fc3(x))\n",
        "        x = self.fc4(x)\n",
        "        x = self.tanh(x)\n",
        "        return x.view(-1, 1, 28, 28)"
      ],
      "execution_count": 0,
      "outputs": []
    },
    {
      "metadata": {
        "id": "pJSeuXh-WIOP",
        "colab_type": "text"
      },
      "cell_type": "markdown",
      "source": [
        "## Discriminator"
      ]
    },
    {
      "metadata": {
        "id": "O_5jHqjSU04I",
        "colab_type": "code",
        "colab": {}
      },
      "cell_type": "code",
      "source": [
        "class Discriminator(nn.Module):\n",
        "    def __init__(self):\n",
        "        super(Discriminator, self).__init__()\n",
        "        self.fc1 = nn.Linear(img_dim, 1024)\n",
        "        self.fc2 = nn.Linear(1024, 512)\n",
        "        self.fc3 = nn.Linear(512, 256)\n",
        "        self.fc4 = nn.Linear(256, 1)\n",
        "        self.sigmoid = nn.Sigmoid()\n",
        "    \n",
        "    def forward(self, x):\n",
        "        x = x.view(x.size(0), -1)\n",
        "        x = F.relu(self.fc1(x))\n",
        "        x = F.dropout(x, 0.3)\n",
        "        x = F.relu(self.fc2(x))\n",
        "        x = F.dropout(x, 0.3)\n",
        "        x = F.relu(self.fc3(x))\n",
        "        x = F.dropout(x, 0.3)\n",
        "        x = self.fc4(x)\n",
        "        x = self.sigmoid(x)\n",
        "        return x"
      ],
      "execution_count": 0,
      "outputs": []
    },
    {
      "metadata": {
        "id": "B8ql7LzFbPsj",
        "colab_type": "text"
      },
      "cell_type": "markdown",
      "source": [
        "# Training\n"
      ]
    },
    {
      "metadata": {
        "id": "7ZkG76HhfzpS",
        "colab_type": "code",
        "colab": {}
      },
      "cell_type": "code",
      "source": [
        "def extract(v):\n",
        "    return v.data.storage().tolist()"
      ],
      "execution_count": 0,
      "outputs": []
    },
    {
      "metadata": {
        "id": "WOg8YhDEeakX",
        "colab_type": "code",
        "colab": {
          "base_uri": "https://localhost:8080/",
          "height": 716
        },
        "outputId": "25364384-9f74-449c-803d-2ae3291c6f6f"
      },
      "cell_type": "code",
      "source": [
        "G = Generator()\n",
        "D = Discriminator()\n",
        "if use_cuda:\n",
        "  G = G.cuda()\n",
        "  D = D.cuda()\n",
        "criterion = nn.BCELoss()\n",
        "d_optimizer = optim.Adam(D.parameters(), lr=d_lr)\n",
        "g_optimizer = optim.Adam(G.parameters(), lr=g_lr)\n",
        "\n",
        "for epoch in range(num_epochs):\n",
        "  for i, (x, _) in enumerate(train_loader):\n",
        "  \n",
        "    if use_cuda:\n",
        "      x = x.cuda()\n",
        "\n",
        "    # 1. Train D on real+fake\n",
        "    D.zero_grad()\n",
        "\n",
        "    #  1A: Train D on real\n",
        "    d_real_data = Variable(x)\n",
        "    d_real_decision = D(d_real_data)\n",
        "    d_real_labels = torch.ones(batch_size) # ones = true\n",
        "    if use_cuda:\n",
        "      d_real_labels = d_real_labels.cuda()\n",
        "    d_real_error = criterion(d_real_decision, Variable(d_real_labels))  \n",
        "    d_real_error.backward() # compute/store gradients, but don't change params\n",
        "\n",
        "    #  1B: Train D on fake\n",
        "    d_z = torch.randn(batch_size, z_dim)\n",
        "    if use_cuda:\n",
        "      d_z = d_z.cuda()\n",
        "    d_gen_input = Variable(d_z)\n",
        "    d_fake_data = G(d_gen_input).detach()  # detach to avoid training G on these labels\n",
        "    d_fake_decision = D(d_fake_data)\n",
        "    d_fake_labels = torch.zeros(batch_size) # zeros = fake\n",
        "    if use_cuda:\n",
        "      d_fake_labels = d_fake_labels.cuda()\n",
        "    d_fake_error = criterion(d_fake_decision, Variable(d_fake_labels)) \n",
        "    d_fake_error.backward()\n",
        "    d_optimizer.step()     # Only optimizes D's parameters; changes based on stored gradients from backward()\n",
        "\n",
        "    # 2. Train G on D's response (but DO NOT train D on these labels)\n",
        "    G.zero_grad()\n",
        "\n",
        "    g_z = torch.randn(batch_size, z_dim)\n",
        "    if use_cuda:\n",
        "      g_z = g_z.cuda()\n",
        "    gen_input = Variable(g_z)\n",
        "    g_fake_data = G(gen_input)\n",
        "    dg_fake_decision = D(g_fake_data)\n",
        "    dg_fake_labels = torch.ones(batch_size)\n",
        "    if use_cuda:\n",
        "      dg_fake_labels = dg_fake_labels.cuda()\n",
        "    g_error = criterion(dg_fake_decision, Variable(dg_fake_labels))  # we want to fool, so pretend it's all genuine\n",
        "\n",
        "    g_error.backward()\n",
        "    g_optimizer.step()  # Only optimizes G's parameters\n",
        "\n",
        "  if epoch % 1 == 0:\n",
        "      print(\"%s: D: %s/%s G: %s\" % (epoch,\n",
        "                                    extract(d_real_error)[0],\n",
        "                                    extract(d_fake_error)[0],\n",
        "                                    extract(g_error)[0]))"
      ],
      "execution_count": 17,
      "outputs": [
        {
          "output_type": "stream",
          "text": [
            "/usr/local/lib/python3.6/dist-packages/torch/nn/functional.py:1594: UserWarning: Using a target size (torch.Size([10])) that is different to the input size (torch.Size([10, 1])) is deprecated. Please ensure they have the same size.\n",
            "  \"Please ensure they have the same size.\".format(target.size(), input.size()))\n"
          ],
          "name": "stderr"
        },
        {
          "output_type": "stream",
          "text": [
            "0: D: 0.008815480396151543/0.019994014874100685 G: 5.408061981201172\n",
            "1: D: 0.0064512281678617/0.04888596385717392 G: 2.3822500705718994\n",
            "2: D: 0.0018764892593026161/0.514936625957489 G: 2.416656494140625\n",
            "3: D: 0.5222370028495789/0.3136095404624939 G: 2.527367115020752\n",
            "4: D: 0.6542896032333374/0.4390343725681305 G: 1.9788920879364014\n",
            "5: D: 0.14024768769741058/0.3854864239692688 G: 1.1669175624847412\n",
            "6: D: 0.8473265767097473/0.32413625717163086 G: 1.9464260339736938\n",
            "7: D: 0.537171483039856/0.28617867827415466 G: 1.3709501028060913\n",
            "8: D: 0.66823810338974/0.49794521927833557 G: 1.4135640859603882\n",
            "9: D: 0.669575572013855/0.4740068316459656 G: 1.4080054759979248\n",
            "10: D: 0.4708629250526428/0.3165932893753052 G: 1.2402751445770264\n"
          ],
          "name": "stdout"
        },
        {
          "output_type": "error",
          "ename": "KeyboardInterrupt",
          "evalue": "ignored",
          "traceback": [
            "\u001b[0;31m---------------------------------------------------------------------------\u001b[0m",
            "\u001b[0;31mKeyboardInterrupt\u001b[0m                         Traceback (most recent call last)",
            "\u001b[0;32m<ipython-input-17-c8820d3c3c63>\u001b[0m in \u001b[0;36m<module>\u001b[0;34m()\u001b[0m\n\u001b[1;32m     54\u001b[0m     \u001b[0mg_error\u001b[0m \u001b[0;34m=\u001b[0m \u001b[0mcriterion\u001b[0m\u001b[0;34m(\u001b[0m\u001b[0mdg_fake_decision\u001b[0m\u001b[0;34m,\u001b[0m \u001b[0mVariable\u001b[0m\u001b[0;34m(\u001b[0m\u001b[0mdg_fake_labels\u001b[0m\u001b[0;34m)\u001b[0m\u001b[0;34m)\u001b[0m  \u001b[0;31m# we want to fool, so pretend it's all genuine\u001b[0m\u001b[0;34m\u001b[0m\u001b[0m\n\u001b[1;32m     55\u001b[0m \u001b[0;34m\u001b[0m\u001b[0m\n\u001b[0;32m---> 56\u001b[0;31m     \u001b[0mg_error\u001b[0m\u001b[0;34m.\u001b[0m\u001b[0mbackward\u001b[0m\u001b[0;34m(\u001b[0m\u001b[0;34m)\u001b[0m\u001b[0;34m\u001b[0m\u001b[0m\n\u001b[0m\u001b[1;32m     57\u001b[0m     \u001b[0mg_optimizer\u001b[0m\u001b[0;34m.\u001b[0m\u001b[0mstep\u001b[0m\u001b[0;34m(\u001b[0m\u001b[0;34m)\u001b[0m  \u001b[0;31m# Only optimizes G's parameters\u001b[0m\u001b[0;34m\u001b[0m\u001b[0m\n\u001b[1;32m     58\u001b[0m \u001b[0;34m\u001b[0m\u001b[0m\n",
            "\u001b[0;32m/usr/local/lib/python3.6/dist-packages/torch/tensor.py\u001b[0m in \u001b[0;36mbackward\u001b[0;34m(self, gradient, retain_graph, create_graph)\u001b[0m\n\u001b[1;32m     91\u001b[0m                 \u001b[0mproducts\u001b[0m\u001b[0;34m.\u001b[0m \u001b[0mDefaults\u001b[0m \u001b[0mto\u001b[0m\u001b[0;31m \u001b[0m\u001b[0;31m`\u001b[0m\u001b[0;31m`\u001b[0m\u001b[0;32mFalse\u001b[0m\u001b[0;31m`\u001b[0m\u001b[0;31m`\u001b[0m\u001b[0;34m.\u001b[0m\u001b[0;34m\u001b[0m\u001b[0m\n\u001b[1;32m     92\u001b[0m         \"\"\"\n\u001b[0;32m---> 93\u001b[0;31m         \u001b[0mtorch\u001b[0m\u001b[0;34m.\u001b[0m\u001b[0mautograd\u001b[0m\u001b[0;34m.\u001b[0m\u001b[0mbackward\u001b[0m\u001b[0;34m(\u001b[0m\u001b[0mself\u001b[0m\u001b[0;34m,\u001b[0m \u001b[0mgradient\u001b[0m\u001b[0;34m,\u001b[0m \u001b[0mretain_graph\u001b[0m\u001b[0;34m,\u001b[0m \u001b[0mcreate_graph\u001b[0m\u001b[0;34m)\u001b[0m\u001b[0;34m\u001b[0m\u001b[0m\n\u001b[0m\u001b[1;32m     94\u001b[0m \u001b[0;34m\u001b[0m\u001b[0m\n\u001b[1;32m     95\u001b[0m     \u001b[0;32mdef\u001b[0m \u001b[0mregister_hook\u001b[0m\u001b[0;34m(\u001b[0m\u001b[0mself\u001b[0m\u001b[0;34m,\u001b[0m \u001b[0mhook\u001b[0m\u001b[0;34m)\u001b[0m\u001b[0;34m:\u001b[0m\u001b[0;34m\u001b[0m\u001b[0m\n",
            "\u001b[0;32m/usr/local/lib/python3.6/dist-packages/torch/autograd/__init__.py\u001b[0m in \u001b[0;36mbackward\u001b[0;34m(tensors, grad_tensors, retain_graph, create_graph, grad_variables)\u001b[0m\n\u001b[1;32m     88\u001b[0m     Variable._execution_engine.run_backward(\n\u001b[1;32m     89\u001b[0m         \u001b[0mtensors\u001b[0m\u001b[0;34m,\u001b[0m \u001b[0mgrad_tensors\u001b[0m\u001b[0;34m,\u001b[0m \u001b[0mretain_graph\u001b[0m\u001b[0;34m,\u001b[0m \u001b[0mcreate_graph\u001b[0m\u001b[0;34m,\u001b[0m\u001b[0;34m\u001b[0m\u001b[0m\n\u001b[0;32m---> 90\u001b[0;31m         allow_unreachable=True)  # allow_unreachable flag\n\u001b[0m\u001b[1;32m     91\u001b[0m \u001b[0;34m\u001b[0m\u001b[0m\n\u001b[1;32m     92\u001b[0m \u001b[0;34m\u001b[0m\u001b[0m\n",
            "\u001b[0;31mKeyboardInterrupt\u001b[0m: "
          ]
        }
      ]
    },
    {
      "metadata": {
        "id": "G2548uOgoegF",
        "colab_type": "code",
        "colab": {}
      },
      "cell_type": "code",
      "source": [
        "d_z = torch.randn(batch_size, z_dim)\n",
        "if use_cuda:\n",
        "  d_z = d_z.cuda()\n",
        "results = G(Variable(d_z)).detach()"
      ],
      "execution_count": 0,
      "outputs": []
    },
    {
      "metadata": {
        "id": "ebxNi1BjoyE6",
        "colab_type": "code",
        "colab": {
          "base_uri": "https://localhost:8080/",
          "height": 364
        },
        "outputId": "80e7495c-2371-431e-da7b-3a01338796e9"
      },
      "cell_type": "code",
      "source": [
        "res = results.cpu().numpy()\n",
        "plt.imshow(1 - (res[7][0] / 2 + 0.5))"
      ],
      "execution_count": 35,
      "outputs": [
        {
          "output_type": "execute_result",
          "data": {
            "text/plain": [
              "<matplotlib.image.AxesImage at 0x7ff0abefe9e8>"
            ]
          },
          "metadata": {
            "tags": []
          },
          "execution_count": 35
        },
        {
          "output_type": "display_data",
          "data": {
            "image/png": "[encoded data removed]",
            "text/plain": [
              "<matplotlib.figure.Figure at 0x7ff0abf0d4a8>"
            ]
          },
          "metadata": {
            "tags": []
          }
        }
      ]
    }
  ]
}