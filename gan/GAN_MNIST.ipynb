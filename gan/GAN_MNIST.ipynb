{
  "nbformat": 4,
  "nbformat_minor": 0,
  "metadata": {
    "colab": {
      "name": "GAN MNIST.ipynb",
      "version": "0.3.2",
      "provenance": [],
      "collapsed_sections": [],
      "include_colab_link": true
    },
    "kernelspec": {
      "name": "python3",
      "display_name": "Python 3"
    },
    "accelerator": "GPU"
  },
  "cells": [
    {
      "cell_type": "markdown",
      "metadata": {
        "id": "view-in-github",
        "colab_type": "text"
      },
      "source": [
        "<a href=\"https://colab.research.google.com/github/ayush29feb/nn-experiments/blob/master/gan/GAN_MNIST.ipynb\" target=\"_parent\"><img src=\"https://colab.research.google.com/assets/colab-badge.svg\" alt=\"Open In Colab\"/></a>"
      ]
    },
    {
      "metadata": {
        "id": "jnC_3AJQMkII",
        "colab_type": "text"
      },
      "cell_type": "markdown",
      "source": [
        "# Generative Adversarial Networks: MNIST\n",
        "\n",
        "A simple GAN for generating handwritten digits drawings similar to MNIST Dataset"
      ]
    },
    {
      "metadata": {
        "id": "g0JtIWeRH3hz",
        "colab_type": "code",
        "colab": {}
      },
      "cell_type": "code",
      "source": [
        "# http://pytorch.org/\n",
        "from os.path import exists\n",
        "from wheel.pep425tags import get_abbr_impl, get_impl_ver, get_abi_tag\n",
        "platform = '{}{}-{}'.format(get_abbr_impl(), get_impl_ver(), get_abi_tag())\n",
        "cuda_output = !ldconfig -p|grep cudart.so|sed -e 's/.*\\.\\([0-9]*\\)\\.\\([0-9]*\\)$/cu\\1\\2/'\n",
        "accelerator = cuda_output[0] if exists('/dev/nvidia0') else 'cpu'\n",
        "\n",
        "!pip install -q http://download.pytorch.org/whl/{accelerator}/torch-0.4.1-{platform}-linux_x86_64.whl torchvision"
      ],
      "execution_count": 0,
      "outputs": []
    },
    {
      "metadata": {
        "id": "7SqXbsEFLnUW",
        "colab_type": "code",
        "colab": {
          "base_uri": "https://localhost:8080/",
          "height": 34
        },
        "outputId": "0d3d6b6b-6805-437d-8e48-cc11306324be"
      },
      "cell_type": "code",
      "source": [
        "import matplotlib.pyplot as plt\n",
        "import matplotlib.mlab as mlab\n",
        "\n",
        "import numpy as np\n",
        "import torch\n",
        "import torch.nn as nn\n",
        "import torch.nn.functional as F\n",
        "import torch.optim as optim\n",
        "import torchvision.datasets as datasets\n",
        "import torchvision.transforms as transforms\n",
        "\n",
        "from torch.autograd import Variable\n",
        "\n",
        "use_cuda = torch.cuda.is_available()\n",
        "if use_cuda:\n",
        "  print('Using GPU: %s'% torch.cuda.get_device_name(0))"
      ],
      "execution_count": 3,
      "outputs": [
        {
          "output_type": "stream",
          "text": [
            "Using GPU: Tesla K80\n"
          ],
          "name": "stdout"
        }
      ]
    },
    {
      "metadata": {
        "id": "ynaf-cO9QbPm",
        "colab_type": "text"
      },
      "cell_type": "markdown",
      "source": [
        "# Parameters"
      ]
    },
    {
      "metadata": {
        "id": "jI84xZSyQerT",
        "colab_type": "code",
        "colab": {}
      },
      "cell_type": "code",
      "source": [
        "num_checkpoint=10\n",
        "batch_size=100\n",
        "img_dim=784\n",
        "\n",
        "d_lr=0.0002\n",
        "g_lr=0.0002\n",
        "num_epochs=100\n",
        "dropout_rate=0.3\n",
        "\n",
        "z_dim=100\n",
        "g_steps=1\n",
        "d_steps=1\n",
        "\n",
        "model_path='/content/gdrive/My Drive/Colab Notebooks/GAN/MNIST-Models'\n"
      ],
      "execution_count": 0,
      "outputs": []
    },
    {
      "metadata": {
        "id": "miSOIGVVMiAo",
        "colab_type": "text"
      },
      "cell_type": "markdown",
      "source": [
        "## Load The MNIST Dataset"
      ]
    },
    {
      "metadata": {
        "id": "fKts_cpsrsiW",
        "colab_type": "code",
        "colab": {
          "base_uri": "https://localhost:8080/",
          "height": 123
        },
        "outputId": "28a2f078-1373-40ec-c7f5-a3b46cb4cc14"
      },
      "cell_type": "code",
      "source": [
        "from google.colab import drive\n",
        "drive.mount('/content/gdrive')"
      ],
      "execution_count": 5,
      "outputs": [
        {
          "output_type": "stream",
          "text": [
            "Go to this URL in a browser: https://accounts.google.com/o/oauth2/auth?client_id=947318989803-6bn6qk8qdgf4n4g3pfee6491hc0brc4i.apps.googleusercontent.com&redirect_uri=urn%3Aietf%3Awg%3Aoauth%3A2.0%3Aoob&scope=email%20https%3A%2F%2Fwww.googleapis.com%2Fauth%2Fdocs.test%20https%3A%2F%2Fwww.googleapis.com%2Fauth%2Fdrive%20https%3A%2F%2Fwww.googleapis.com%2Fauth%2Fdrive.photos.readonly%20https%3A%2F%2Fwww.googleapis.com%2Fauth%2Fpeopleapi.readonly&response_type=code\n",
            "\n",
            "Enter your authorization code:\n",
            "··········\n",
            "Mounted at /content/gdrive\n"
          ],
          "name": "stdout"
        }
      ]
    },
    {
      "metadata": {
        "id": "zKxQFF0-MgPl",
        "colab_type": "code",
        "colab": {}
      },
      "cell_type": "code",
      "source": [
        "# !mkdir /content/data\n",
        "data_root='/content/data'\n",
        "data_transforms = transforms.Compose([transforms.ToTensor(),\n",
        "                                      transforms.Lambda(lambda x: (x-0.5)/0.5)])\n",
        "\n",
        "train_set = datasets.MNIST(root=data_root, train=True, \n",
        "                           transform=data_transforms, download=True)\n",
        "\n",
        "train_loader = torch.utils.data.DataLoader(dataset=train_set,\n",
        "                                           batch_size=batch_size,\n",
        "                                           shuffle=True)"
      ],
      "execution_count": 0,
      "outputs": []
    },
    {
      "metadata": {
        "id": "FBj7BioXWD0x",
        "colab_type": "text"
      },
      "cell_type": "markdown",
      "source": [
        "## Generator"
      ]
    },
    {
      "metadata": {
        "id": "kdj0TcC4WMzn",
        "colab_type": "code",
        "colab": {}
      },
      "cell_type": "code",
      "source": [
        "class Generator(nn.Module):\n",
        "  \n",
        "    def __init__(self):\n",
        "        super(Generator, self).__init__()\n",
        "        self.fc1 = nn.Linear(z_dim, 256)\n",
        "        self.fc2 = nn.Linear(256, 512)\n",
        "        self.fc3 = nn.Linear(512, 1024)\n",
        "        self.fc4 = nn.Linear(1024, img_dim)\n",
        "        self.tanh = nn.Tanh()\n",
        "\n",
        "    def forward(self, x):\n",
        "        x = x.view(x.size(0), -1)\n",
        "        x = F.relu(self.fc1(x))\n",
        "        x = F.relu(self.fc2(x))\n",
        "        x = F.relu(self.fc3(x))\n",
        "        x = self.fc4(x)\n",
        "        x = self.tanh(x)\n",
        "        return x.view(-1, 1, 28, 28)"
      ],
      "execution_count": 0,
      "outputs": []
    },
    {
      "metadata": {
        "id": "pJSeuXh-WIOP",
        "colab_type": "text"
      },
      "cell_type": "markdown",
      "source": [
        "## Discriminator"
      ]
    },
    {
      "metadata": {
        "id": "O_5jHqjSU04I",
        "colab_type": "code",
        "colab": {}
      },
      "cell_type": "code",
      "source": [
        "class Discriminator(nn.Module):\n",
        "    def __init__(self):\n",
        "        super(Discriminator, self).__init__()\n",
        "        self.fc1 = nn.Linear(img_dim, 1024)\n",
        "        self.fc2 = nn.Linear(1024, 512)\n",
        "        self.fc3 = nn.Linear(512, 256)\n",
        "        self.fc4 = nn.Linear(256, 1)\n",
        "        self.sigmoid = nn.Sigmoid()\n",
        "    \n",
        "    def forward(self, x):\n",
        "        x = x.view(x.size(0), -1)\n",
        "        x = F.relu(self.fc1(x))\n",
        "        x = F.dropout(x, 0.3)\n",
        "        x = F.relu(self.fc2(x))\n",
        "        x = F.dropout(x, 0.3)\n",
        "        x = F.relu(self.fc3(x))\n",
        "        x = F.dropout(x, 0.3)\n",
        "        x = self.fc4(x)\n",
        "        x = self.sigmoid(x)\n",
        "        return x"
      ],
      "execution_count": 0,
      "outputs": []
    },
    {
      "metadata": {
        "id": "B8ql7LzFbPsj",
        "colab_type": "text"
      },
      "cell_type": "markdown",
      "source": [
        "# Training\n"
      ]
    },
    {
      "metadata": {
        "id": "7ZkG76HhfzpS",
        "colab_type": "code",
        "colab": {}
      },
      "cell_type": "code",
      "source": [
        "def extract(v):\n",
        "    return v.data.storage().tolist()"
      ],
      "execution_count": 0,
      "outputs": []
    },
    {
      "metadata": {
        "id": "WOg8YhDEeakX",
        "colab_type": "code",
        "colab": {
          "base_uri": "https://localhost:8080/",
          "height": 311
        },
        "outputId": "1ad29bd8-5dbd-46d9-ef81-ccaf493eaafc"
      },
      "cell_type": "code",
      "source": [
        "G = Generator()\n",
        "D = Discriminator()\n",
        "if use_cuda:\n",
        "  G = G.cuda()\n",
        "  D = D.cuda()\n",
        "criterion = nn.BCELoss()\n",
        "d_optimizer = optim.Adam(D.parameters(), lr=d_lr)\n",
        "g_optimizer = optim.Adam(G.parameters(), lr=g_lr)\n",
        "\n",
        "for epoch in range(num_epochs):\n",
        "  for i, (x, _) in enumerate(train_loader):\n",
        "  \n",
        "    if use_cuda:\n",
        "      x = x.cuda()\n",
        "\n",
        "    # 1. Train D on real+fake\n",
        "    D.zero_grad()\n",
        "\n",
        "    #  1A: Train D on real\n",
        "    d_real_data = Variable(x)\n",
        "    d_real_decision = D(d_real_data)\n",
        "    d_real_labels = torch.ones(batch_size) # ones = true\n",
        "    if use_cuda:\n",
        "      d_real_labels = d_real_labels.cuda()\n",
        "    d_real_error = criterion(d_real_decision, Variable(d_real_labels))  \n",
        "    d_real_error.backward() # compute/store gradients, but don't change params\n",
        "\n",
        "    #  1B: Train D on fake\n",
        "    d_z = torch.randn(batch_size, z_dim)\n",
        "    if use_cuda:\n",
        "      d_z = d_z.cuda()\n",
        "    d_gen_input = Variable(d_z)\n",
        "    d_fake_data = G(d_gen_input).detach()  # detach to avoid training G on these labels\n",
        "    d_fake_decision = D(d_fake_data)\n",
        "    d_fake_labels = torch.zeros(batch_size) # zeros = fake\n",
        "    if use_cuda:\n",
        "      d_fake_labels = d_fake_labels.cuda()\n",
        "    d_fake_error = criterion(d_fake_decision, Variable(d_fake_labels)) \n",
        "    d_fake_error.backward()\n",
        "    d_optimizer.step()     # Only optimizes D's parameters; changes based on stored gradients from backward()\n",
        "\n",
        "    # 2. Train G on D's response (but DO NOT train D on these labels)\n",
        "    G.zero_grad()\n",
        "\n",
        "    g_z = torch.randn(batch_size, z_dim)\n",
        "    if use_cuda:\n",
        "      g_z = g_z.cuda()\n",
        "    gen_input = Variable(g_z)\n",
        "    g_fake_data = G(gen_input)\n",
        "    dg_fake_decision = D(g_fake_data)\n",
        "    dg_fake_labels = torch.ones(batch_size)\n",
        "    if use_cuda:\n",
        "      dg_fake_labels = dg_fake_labels.cuda()\n",
        "    g_error = criterion(dg_fake_decision, Variable(dg_fake_labels))  # we want to fool, so pretend it's all genuine\n",
        "\n",
        "    g_error.backward()\n",
        "    g_optimizer.step()  # Only optimizes G's parameters\n",
        "\n",
        "  if epoch % num_checkpoint == 0:\n",
        "      print(\"%s: D: %s/%s G: %s\" % (epoch,\n",
        "                                    extract(d_real_error)[0],\n",
        "                                    extract(d_fake_error)[0],\n",
        "                                    extract(g_error)[0]))\n",
        "      torch.save(G, '%s/G-%s' % (model_path, epoch))\n",
        "      torch.save(D, '%s/D-%s' % (model_path, epoch))"
      ],
      "execution_count": 15,
      "outputs": [
        {
          "output_type": "stream",
          "text": [
            "/usr/local/lib/python3.6/dist-packages/torch/nn/functional.py:1594: UserWarning: Using a target size (torch.Size([100])) that is different to the input size (torch.Size([100, 1])) is deprecated. Please ensure they have the same size.\n",
            "  \"Please ensure they have the same size.\".format(target.size(), input.size()))\n"
          ],
          "name": "stderr"
        },
        {
          "output_type": "stream",
          "text": [
            "0: D: 0.11455582827329636/0.10236942023038864 G: 7.5484089851379395\n"
          ],
          "name": "stdout"
        },
        {
          "output_type": "stream",
          "text": [
            "/usr/local/lib/python3.6/dist-packages/torch/serialization.py:241: UserWarning: Couldn't retrieve source code for container of type Generator. It won't be checked for correctness upon loading.\n",
            "  \"type \" + obj.__name__ + \". It won't be checked \"\n",
            "/usr/local/lib/python3.6/dist-packages/torch/serialization.py:241: UserWarning: Couldn't retrieve source code for container of type Discriminator. It won't be checked for correctness upon loading.\n",
            "  \"type \" + obj.__name__ + \". It won't be checked \"\n"
          ],
          "name": "stderr"
        },
        {
          "output_type": "stream",
          "text": [
            "10: D: 0.23482172191143036/0.030025305226445198 G: 5.575169563293457\n",
            "20: D: 0.21445044875144958/0.06041145697236061 G: 4.849595069885254\n",
            "30: D: 0.46275046467781067/0.27042749524116516 G: 3.479390859603882\n",
            "40: D: 0.16693933308124542/0.3283050060272217 G: 1.8957487344741821\n",
            "50: D: 0.3603785037994385/0.4635913372039795 G: 1.8412270545959473\n",
            "60: D: 0.5539034008979797/0.38797813653945923 G: 1.5795801877975464\n",
            "70: D: 0.3052400052547455/0.4595661163330078 G: 1.5909746885299683\n",
            "80: D: 0.4840969145298004/0.3414584994316101 G: 1.3388384580612183\n",
            "90: D: 0.5193278193473816/0.5698971748352051 G: 1.2950172424316406\n"
          ],
          "name": "stdout"
        }
      ]
    },
    {
      "metadata": {
        "id": "G2548uOgoegF",
        "colab_type": "code",
        "colab": {}
      },
      "cell_type": "code",
      "source": [
        "d_z = torch.randn(batch_size, z_dim)\n",
        "if use_cuda:\n",
        "  d_z = d_z.cuda()\n",
        "results = G(Variable(d_z)).detach()"
      ],
      "execution_count": 0,
      "outputs": []
    },
    {
      "metadata": {
        "id": "ebxNi1BjoyE6",
        "colab_type": "code",
        "colab": {
          "base_uri": "https://localhost:8080/",
          "height": 364
        },
        "outputId": "e236ac44-9f82-4546-ccc0-d7a5aa4e3eb3"
      },
      "cell_type": "code",
      "source": [
        "res = results.cpu().numpy()\n",
        "plt.imshow(1 - (res[1][0] / 2 + 0.5))"
      ],
      "execution_count": 19,
      "outputs": [
        {
          "output_type": "execute_result",
          "data": {
            "text/plain": [
              "<matplotlib.image.AxesImage at 0x7ffae016eda0>"
            ]
          },
          "metadata": {
            "tags": []
          },
          "execution_count": 19
        },
        {
          "output_type": "display_data",
          "data": {
            "image/png": "[encoded data removed]",
            "text/plain": [
              "<matplotlib.figure.Figure at 0x7ffae00df630>"
            ]
          },
          "metadata": {
            "tags": []
          }
        }
      ]
    }
  ]
}