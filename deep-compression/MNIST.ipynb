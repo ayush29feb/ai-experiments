{
 "cells": [
  {
   "cell_type": "code",
   "execution_count": null,
   "metadata": {},
   "outputs": [],
   "source": [
    "import numpy as np\n",
    "import matplotlib.pyplot as plt\n",
    "\n",
    "from mnist_loader import DataLoader as MNISTLoader\n",
    "\n",
    "BATCH_SIZE = 100\n",
    "D = 768\n",
    "H1 = 200\n",
    "C = 10"
   ]
  },
  {
   "cell_type": "code",
   "execution_count": null,
   "metadata": {},
   "outputs": [],
   "source": [
    "data_loader = MNISTLoader(batch_size=BATCH_SIZE)\n",
    "\n",
    "def softmax(x):\n",
    "    out = np.exp(x - np.tile(np.max(x, axis=1), (2, 1)).T)\n",
    "    return out / np.sum(out, axis=1).reshape(-1, 1)\n"
   ]
  },
  {
   "cell_type": "code",
   "execution_count": null,
   "metadata": {},
   "outputs": [],
   "source": [
    "class Net:\n",
    "    def __init__(self):\n",
    "        W1 = np.random.randn(D, H1)\n",
    "        b1 = np.random.randn(H1)\n",
    "        W2 = np.random.randn(H1, C)\n",
    "        b2 = np.random.randn(C)\n",
    "    \n",
    "    def fwd(X):\n",
    "        out = np.dot(X, W1) + b1 # Linear\n",
    "        out *= out > 0 # ReLU\n",
    "        \n",
    "        out = np.dot(out, W2) + b2 # Linear\n",
    "        out = softmax(out) # softmax probs"
   ]
  }
 ],
 "metadata": {
  "kernelspec": {
   "display_name": "Python 2",
   "language": "python",
   "name": "python2"
  },
  "language_info": {
   "codemirror_mode": {
    "name": "ipython",
    "version": 2
   },
   "file_extension": ".py",
   "mimetype": "text/x-python",
   "name": "python",
   "nbconvert_exporter": "python",
   "pygments_lexer": "ipython2",
   "version": "2.7.14"
  }
 },
 "nbformat": 4,
 "nbformat_minor": 2
}
